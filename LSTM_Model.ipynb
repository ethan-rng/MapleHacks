{
 "cells": [
  {
   "cell_type": "code",
   "execution_count": 7,
   "id": "c4d530fe",
   "metadata": {},
   "outputs": [],
   "source": [
    "from keras.models import Sequential\n",
    "from keras.layers import Dense\n",
    "from keras.layers import LSTM, Flatten\n",
    "from sklearn.preprocessing import MinMaxScaler\n",
    "from sklearn.metrics import mean_squared_error\n",
    "from keras.layers import ConvLSTM2D\n",
    "from matplotlib import pyplot as plt\n",
    "from backendGetFunctions import getFourYearDf"
   ]
  },
  {
   "cell_type": "code",
   "execution_count": 22,
   "id": "a01017f7",
   "metadata": {},
   "outputs": [
    {
     "data": {
      "text/plain": [
       "array([[1.        ],\n",
       "       [0.93318463],\n",
       "       [0.79681969],\n",
       "       [0.91721111],\n",
       "       [0.89915096],\n",
       "       [0.89421499],\n",
       "       [0.94566125],\n",
       "       [0.95330263],\n",
       "       [0.9045762 ],\n",
       "       [0.86316017],\n",
       "       [0.82414736],\n",
       "       [0.79382645],\n",
       "       [0.79620089],\n",
       "       [0.63787595],\n",
       "       [0.5085336 ],\n",
       "       [0.45687149],\n",
       "       [0.39735214],\n",
       "       [0.42994675],\n",
       "       [0.42080875],\n",
       "       [0.46930494],\n",
       "       [0.47426968],\n",
       "       [0.47021154],\n",
       "       [0.43829328],\n",
       "       [0.47877392],\n",
       "       [0.50053245],\n",
       "       [0.36926176],\n",
       "       [0.30500791],\n",
       "       [0.21613182],\n",
       "       [0.18830047],\n",
       "       [0.23568859],\n",
       "       [0.26269967],\n",
       "       [0.27801122],\n",
       "       [0.31709599],\n",
       "       [0.30188516],\n",
       "       [0.30556915],\n",
       "       [0.28103324],\n",
       "       [0.2815513 ],\n",
       "       [0.2306375 ],\n",
       "       [0.16141891],\n",
       "       [0.11919701],\n",
       "       [0.08699093],\n",
       "       [0.11169953],\n",
       "       [0.09064614],\n",
       "       [0.10164052],\n",
       "       [0.08392574],\n",
       "       [0.        ],\n",
       "       [0.0541085 ],\n",
       "       [0.03210534]])"
      ]
     },
     "execution_count": 22,
     "metadata": {},
     "output_type": "execute_result"
    }
   ],
   "source": [
    "def makeLSTM_Model(state, catg):\n",
    "    df = getFourYearDf(\"New York\")[\"Total_Number_of_Participants\"]\n",
    "    dataSet = df.values\n",
    "    dataSet = dataSet.astype(\"int32\")\n",
    "    \n",
    "    # Scalarizing Our Inputs for LSTM Model\n",
    "    scaler = MinMaxScaler(feature_range=(0, 1)) \n",
    "    dataSet = scaler.fit_transform(dataSet.reshape(-1, 1))\n",
    "    \n",
    "    return dataSet\n",
    "    \n",
    "makeLSTM_Model(\"New York\", \"Total_Number_of_Participants\")\n",
    "\n"
   ]
  },
  {
   "cell_type": "code",
   "execution_count": null,
   "id": "19def6b2",
   "metadata": {},
   "outputs": [],
   "source": []
  }
 ],
 "metadata": {
  "kernelspec": {
   "display_name": "Python 3 (ipykernel)",
   "language": "python",
   "name": "python3"
  },
  "language_info": {
   "codemirror_mode": {
    "name": "ipython",
    "version": 3
   },
   "file_extension": ".py",
   "mimetype": "text/x-python",
   "name": "python",
   "nbconvert_exporter": "python",
   "pygments_lexer": "ipython3",
   "version": "3.10.4"
  }
 },
 "nbformat": 4,
 "nbformat_minor": 5
}
