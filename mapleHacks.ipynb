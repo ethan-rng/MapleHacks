{
 "cells": [
  {
   "cell_type": "code",
   "execution_count": 16,
   "id": "fdc921ca",
   "metadata": {},
   "outputs": [],
   "source": [
    "import pandas as pd\n",
    "from matplotlib import pyplot as plt\n",
    "import seaborn as sns\n",
    "from numpy import percentile\n",
    "from numpy.random import randn\n",
    "import numpy as np\n",
    "import os\n",
    "from scipy.stats import norm, stats"
   ]
  },
  {
   "cell_type": "code",
   "execution_count": 50,
   "id": "a936e47c",
   "metadata": {},
   "outputs": [
    {
     "ename": "KeyError",
     "evalue": "'Infants_Partially_Breastfed.csv'",
     "output_type": "error",
     "traceback": [
      "\u001b[0;31m---------------------------------------------------------------------------\u001b[0m",
      "\u001b[0;31mKeyError\u001b[0m                                  Traceback (most recent call last)",
      "Cell \u001b[0;32mIn[50], line 24\u001b[0m\n\u001b[1;32m     19\u001b[0m         stateDict[dataFile][:\u001b[38;5;241m-\u001b[39m\u001b[38;5;241m4\u001b[39m] \u001b[38;5;241m=\u001b[39m stateData\n\u001b[1;32m     21\u001b[0m     \u001b[38;5;28;01mreturn\u001b[39;00m pd\u001b[38;5;241m.\u001b[39mDataFrame(stateDict)\n\u001b[0;32m---> 24\u001b[0m \u001b[43mcreateStateDf\u001b[49m\u001b[43m(\u001b[49m\u001b[38;5;124;43m\"\u001b[39;49m\u001b[38;5;124;43mNew York\u001b[39;49m\u001b[38;5;124;43m\"\u001b[39;49m\u001b[43m,\u001b[49m\u001b[43m \u001b[49m\u001b[38;5;124;43m\"\u001b[39;49m\u001b[38;5;124;43m2014\u001b[39;49m\u001b[38;5;124;43m\"\u001b[39;49m\u001b[43m)\u001b[49m\n",
      "Cell \u001b[0;32mIn[50], line 19\u001b[0m, in \u001b[0;36mcreateStateDf\u001b[0;34m(state, year)\u001b[0m\n\u001b[1;32m     16\u001b[0m                 stateData \u001b[38;5;241m=\u001b[39m stateData\u001b[38;5;241m.\u001b[39miloc[i]\n\u001b[1;32m     17\u001b[0m                 \u001b[38;5;28;01mbreak\u001b[39;00m\n\u001b[0;32m---> 19\u001b[0m     \u001b[43mstateDict\u001b[49m\u001b[43m[\u001b[49m\u001b[43mdataFile\u001b[49m\u001b[43m]\u001b[49m[:\u001b[38;5;241m-\u001b[39m\u001b[38;5;241m4\u001b[39m] \u001b[38;5;241m=\u001b[39m stateData\n\u001b[1;32m     21\u001b[0m \u001b[38;5;28;01mreturn\u001b[39;00m pd\u001b[38;5;241m.\u001b[39mDataFrame(stateDict)\n",
      "\u001b[0;31mKeyError\u001b[0m: 'Infants_Partially_Breastfed.csv'"
     ]
    }
   ],
   "source": [
    "def createStateDf(state, year):\n",
    "    folder = \"data/WICAgencies{}ytd/\".format(year)\n",
    "    \n",
    "    stateDict = {\n",
    "        \"Date\": pd.read_csv(\"data/WICAgencies2014ytd/Children_Participating.csv\").columns[1:-1]\n",
    "    }\n",
    "    \n",
    "    for dataFile in os.listdir(folder):\n",
    "        file = folder + dataFile\n",
    "        stateDf = pd.read_csv(file)\n",
    "        stateData = stateDf[ stateDf[stateDf.columns[0]] == state ]\n",
    "        \n",
    "        if len(stateData) != 1:\n",
    "            for i in len(stateData):\n",
    "                if stateData.iloc[i].isna().sum() != 12:\n",
    "                    stateData = stateData.iloc[i]\n",
    "                    break\n",
    "                \n",
    "        stateDict[dataFile][:-4] = stateData\n",
    "    \n",
    "    return pd.DataFrame(stateDict)\n",
    "            \n",
    "    \n",
    "createStateDf(\"New York\", \"2014\")\n",
    "    "
   ]
  },
  {
   "cell_type": "code",
   "execution_count": 39,
   "id": "be15c098",
   "metadata": {},
   "outputs": [
    {
     "data": {
      "text/plain": [
       "2"
      ]
     },
     "execution_count": 39,
     "metadata": {},
     "output_type": "execute_result"
    }
   ],
   "source": [
    "file = pd.read_csv(\"data/WICAgencies2014ytd/Food_Costs.csv\")\n",
    "file[file[file.columns[0]] == \"Texas\"].iloc[0].isna()\n",
    "len(file[file[file.columns[0]] == \"Texas\"]"
   ]
  },
  {
   "cell_type": "code",
   "execution_count": 46,
   "id": "6bb6f4f9",
   "metadata": {},
   "outputs": [
    {
     "name": "stdout",
     "output_type": "stream",
     "text": [
      "12\n",
      "0\n"
     ]
    },
    {
     "data": {
      "text/html": [
       "<div>\n",
       "<style scoped>\n",
       "    .dataframe tbody tr th:only-of-type {\n",
       "        vertical-align: middle;\n",
       "    }\n",
       "\n",
       "    .dataframe tbody tr th {\n",
       "        vertical-align: top;\n",
       "    }\n",
       "\n",
       "    .dataframe thead th {\n",
       "        text-align: right;\n",
       "    }\n",
       "</style>\n",
       "<table border=\"1\" class=\"dataframe\">\n",
       "  <thead>\n",
       "    <tr style=\"text-align: right;\">\n",
       "      <th></th>\n",
       "      <th>State Agency or Indian Tribal Organization</th>\n",
       "      <th>2013-10-01 00:00:00</th>\n",
       "      <th>2013-11-01 00:00:00</th>\n",
       "      <th>2013-12-01 00:00:00</th>\n",
       "      <th>2014-01-01 00:00:00</th>\n",
       "      <th>2014-02-01 00:00:00</th>\n",
       "      <th>2014-03-01 00:00:00</th>\n",
       "      <th>2014-04-01 00:00:00</th>\n",
       "      <th>2014-05-01 00:00:00</th>\n",
       "      <th>2014-06-01 00:00:00</th>\n",
       "      <th>2014-07-01 00:00:00</th>\n",
       "      <th>2014-08-01 00:00:00</th>\n",
       "      <th>2014-09-01 00:00:00</th>\n",
       "      <th>Cumulative Cost</th>\n",
       "    </tr>\n",
       "  </thead>\n",
       "  <tbody>\n",
       "    <tr>\n",
       "      <th>39</th>\n",
       "      <td>Texas</td>\n",
       "      <td>NaN</td>\n",
       "      <td>NaN</td>\n",
       "      <td>NaN</td>\n",
       "      <td>NaN</td>\n",
       "      <td>NaN</td>\n",
       "      <td>NaN</td>\n",
       "      <td>NaN</td>\n",
       "      <td>NaN</td>\n",
       "      <td>NaN</td>\n",
       "      <td>NaN</td>\n",
       "      <td>NaN</td>\n",
       "      <td>NaN</td>\n",
       "      <td></td>\n",
       "    </tr>\n",
       "    <tr>\n",
       "      <th>40</th>\n",
       "      <td>Texas</td>\n",
       "      <td>28048726.0</td>\n",
       "      <td>42481513.0</td>\n",
       "      <td>24706304.0</td>\n",
       "      <td>12224343.0</td>\n",
       "      <td>38173888.0</td>\n",
       "      <td>15004632.0</td>\n",
       "      <td>36113963.0</td>\n",
       "      <td>15892946.0</td>\n",
       "      <td>25452554.0</td>\n",
       "      <td>35516150.0</td>\n",
       "      <td>18808229.0</td>\n",
       "      <td>29510324.0</td>\n",
       "      <td>321933572</td>\n",
       "    </tr>\n",
       "  </tbody>\n",
       "</table>\n",
       "</div>"
      ],
      "text/plain": [
       "   State Agency or Indian Tribal Organization  2013-10-01 00:00:00  \\\n",
       "39                                      Texas                  NaN   \n",
       "40                                      Texas           28048726.0   \n",
       "\n",
       "    2013-11-01 00:00:00  2013-12-01 00:00:00  2014-01-01 00:00:00  \\\n",
       "39                  NaN                  NaN                  NaN   \n",
       "40           42481513.0           24706304.0           12224343.0   \n",
       "\n",
       "    2014-02-01 00:00:00  2014-03-01 00:00:00  2014-04-01 00:00:00  \\\n",
       "39                  NaN                  NaN                  NaN   \n",
       "40           38173888.0           15004632.0           36113963.0   \n",
       "\n",
       "    2014-05-01 00:00:00  2014-06-01 00:00:00  2014-07-01 00:00:00  \\\n",
       "39                  NaN                  NaN                  NaN   \n",
       "40           15892946.0           25452554.0           35516150.0   \n",
       "\n",
       "    2014-08-01 00:00:00  2014-09-01 00:00:00 Cumulative Cost  \n",
       "39                  NaN                  NaN                  \n",
       "40           18808229.0           29510324.0       321933572  "
      ]
     },
     "execution_count": 46,
     "metadata": {},
     "output_type": "execute_result"
    }
   ],
   "source": [
    "stateData = file[file[file.columns[0]] == \"Texas\"]\n",
    "\n",
    "if len(stateData) != 1:\n",
    "    for i in range(len(stateData)):\n",
    "        print(stateData.iloc[i].isna().sum())\n",
    "        \n",
    "stateData"
   ]
  },
  {
   "cell_type": "code",
   "execution_count": 23,
   "id": "3dd852b3",
   "metadata": {},
   "outputs": [
    {
     "data": {
      "text/plain": [
       "'Total_Women'"
      ]
     },
     "execution_count": 23,
     "metadata": {},
     "output_type": "execute_result"
    }
   ],
   "source": [
    "\"Total_Women.csv\"[:-4]"
   ]
  },
  {
   "cell_type": "code",
   "execution_count": null,
   "id": "48219c0b",
   "metadata": {},
   "outputs": [],
   "source": []
  }
 ],
 "metadata": {
  "kernelspec": {
   "display_name": "Python 3 (ipykernel)",
   "language": "python",
   "name": "python3"
  },
  "language_info": {
   "codemirror_mode": {
    "name": "ipython",
    "version": 3
   },
   "file_extension": ".py",
   "mimetype": "text/x-python",
   "name": "python",
   "nbconvert_exporter": "python",
   "pygments_lexer": "ipython3",
   "version": "3.10.4"
  }
 },
 "nbformat": 4,
 "nbformat_minor": 5
}
